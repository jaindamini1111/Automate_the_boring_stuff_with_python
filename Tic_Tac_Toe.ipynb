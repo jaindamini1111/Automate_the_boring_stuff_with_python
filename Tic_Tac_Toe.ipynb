{
 "cells": [
  {
   "cell_type": "code",
   "execution_count": 18,
   "metadata": {},
   "outputs": [],
   "source": [
    "theboard = {\"top-L\":\" \", \"top-M\":\" \", \"top-R\":\" \",\n",
    "            \"mid-L\":\" \", \"mid-M\":\" \", \"mid-R\": \" \",\n",
    "            \"low-L\":\" \", \"low-M\":\" \", \"low-R\":\" \"}"
   ]
  },
  {
   "cell_type": "code",
   "execution_count": 20,
   "metadata": {},
   "outputs": [
    {
     "name": "stdout",
     "output_type": "stream",
     "text": [
      " | | \n",
      "-+-+-\n",
      " | | \n",
      "-+-+-\n",
      " | | \n"
     ]
    }
   ],
   "source": [
    "def printBoard(board):\n",
    "    \"\"\"This prints the tic tac toe board for the user.\"\"\"\n",
    "print(board['top-L'] + '|' + board['top-M'] + '|' + board['top-R'])\n",
    "print('-+-+-')\n",
    "print(board['mid-L'] + '|' + board['mid-M'] + '|' + board['mid-R'])\n",
    "print('-+-+-')\n",
    "print(board['low-L'] + '|' + board['low-M'] + '|' + board['low-R'])\n",
    "\n"
   ]
  },
  {
   "cell_type": "code",
   "execution_count": null,
   "metadata": {},
   "outputs": [
    {
     "name": "stdout",
     "output_type": "stream",
     "text": [
      "Turn for X. Move on which space?\n",
      "top-L\n",
      "Turn for O. Move on which space?\n",
      "low-M\n",
      "Turn for X. Move on which space?\n",
      "Top-R\n",
      "Turn for O. Move on which space?\n",
      "low-R\n",
      "Turn for X. Move on which space?\n",
      "top-L\n",
      "Turn for O. Move on which space?\n"
     ]
    }
   ],
   "source": [
    "turn = 'X'\n",
    "for i in range(9):\n",
    "    printBoard(theBoard)\n",
    "    print('Turn for ' + turn + '. Move on which space?')\n",
    "    move = input()\n",
    "    theboard[move] = turn\n",
    "    if turn == 'X':\n",
    "        turn = 'O'\n",
    "    else:\n",
    "            turn = 'X'\n",
    "            printBoard(theBoard)\n"
   ]
  },
  {
   "cell_type": "code",
   "execution_count": null,
   "metadata": {},
   "outputs": [],
   "source": []
  }
 ],
 "metadata": {
  "kernelspec": {
   "display_name": "Python 3",
   "language": "python",
   "name": "python3"
  },
  "language_info": {
   "codemirror_mode": {
    "name": "ipython",
    "version": 3
   },
   "file_extension": ".py",
   "mimetype": "text/x-python",
   "name": "python",
   "nbconvert_exporter": "python",
   "pygments_lexer": "ipython3",
   "version": "3.6.8"
  }
 },
 "nbformat": 4,
 "nbformat_minor": 2
}
