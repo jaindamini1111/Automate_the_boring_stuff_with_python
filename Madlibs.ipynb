{
 "cells": [
  {
   "cell_type": "code",
   "execution_count": 94,
   "metadata": {},
   "outputs": [],
   "source": [
    "import os\n",
    "import random\n",
    "import re"
   ]
  },
  {
   "cell_type": "code",
   "execution_count": 95,
   "metadata": {},
   "outputs": [
    {
     "data": {
      "text/plain": [
       "'/home/daminijain/Mini_Py_Projects'"
      ]
     },
     "execution_count": 95,
     "metadata": {},
     "output_type": "execute_result"
    }
   ],
   "source": [
    "os.getcwd()"
   ]
  },
  {
   "cell_type": "markdown",
   "metadata": {},
   "source": [
    "The os.mknod lets us make an empty text file in the working directory without opening up the window and creating a file there."
   ]
  },
  {
   "cell_type": "code",
   "execution_count": 93,
   "metadata": {},
   "outputs": [],
   "source": [
    "#os.mknod(\"Madlibs.txt\")"
   ]
  },
  {
   "cell_type": "markdown",
   "metadata": {},
   "source": [
    "write method is used here to write the content in the file without opening up the file in window and writing their. "
   ]
  },
  {
   "cell_type": "code",
   "execution_count": null,
   "metadata": {},
   "outputs": [],
   "source": [
    "# with open(\"Madlibs.txt\", \"w\") as madlibsfile:\n",
    "#     madlibsfile.write(\"Mad libs!\\n\"\"The ADJECTIVE panda walked to the NOUN and then VERB. A nearby NOUN was unaffected by these events.\")"
   ]
  },
  {
   "cell_type": "markdown",
   "metadata": {},
   "source": [
    "Lets open the file we created above and read its content."
   ]
  },
  {
   "cell_type": "code",
   "execution_count": 112,
   "metadata": {},
   "outputs": [],
   "source": [
    "with open(\"/home/daminijain/Mini_Py_Projects/Madlibs.txt\") as oldmadlibsobject:\n",
    "    oldmadlibs = oldmadlibsobject.read()"
   ]
  },
  {
   "cell_type": "markdown",
   "metadata": {},
   "source": [
    "We will create a regex object using compile and pipe operator (|) which lets us match one or more expressions."
   ]
  },
  {
   "cell_type": "code",
   "execution_count": 113,
   "metadata": {},
   "outputs": [],
   "source": [
    "regex = re.compile(r'(ADJECTIVE)|(NOUN)|(VERB)')"
   ]
  },
  {
   "cell_type": "markdown",
   "metadata": {},
   "source": [
    "Now, we will use the findall method to find all the matching occurrences and by using the sub method of regex we can substitue new text in place of patterns. "
   ]
  },
  {
   "cell_type": "code",
   "execution_count": 114,
   "metadata": {},
   "outputs": [
    {
     "name": "stdout",
     "output_type": "stream",
     "text": [
      "Enter the substitute for ADJECTIVE: bbbb\n",
      "Enter the substitute for NOUN: bbb\n",
      "Enter the substitute for VERB: bbb\n",
      "Enter the substitute for NOUN: bbb\n"
     ]
    }
   ],
   "source": [
    "for i in regex.findall(oldmadlibs):\n",
    "      for j in i:\n",
    "        if j != \"\":\n",
    "            reg = re.compile(r'{}'.format(j))\n",
    "            input_text = str(input(\"Enter the substitute for %s: \" %j))\n",
    "            oldmadlibs = reg.sub(input_text, oldmadlibs, 1)"
   ]
  },
  {
   "cell_type": "code",
   "execution_count": 118,
   "metadata": {},
   "outputs": [],
   "source": [
    "# print(oldmadlibs)"
   ]
  },
  {
   "cell_type": "markdown",
   "metadata": {},
   "source": [
    "Lets save the output to a new file in the workign directory."
   ]
  },
  {
   "cell_type": "code",
   "execution_count": 117,
   "metadata": {},
   "outputs": [],
   "source": [
    "with open(\"/home/daminijain/Mini_Py_Projects/newmadlibs.txt\", \"w\") as newmadlibs:\n",
    "    newmadlibs.write(oldmadlibs)"
   ]
  },
  {
   "cell_type": "code",
   "execution_count": null,
   "metadata": {},
   "outputs": [],
   "source": []
  }
 ],
 "metadata": {
  "kernelspec": {
   "display_name": "Python 3",
   "language": "python",
   "name": "python3"
  },
  "language_info": {
   "codemirror_mode": {
    "name": "ipython",
    "version": 3
   },
   "file_extension": ".py",
   "mimetype": "text/x-python",
   "name": "python",
   "nbconvert_exporter": "python",
   "pygments_lexer": "ipython3",
   "version": "3.6.8"
  }
 },
 "nbformat": 4,
 "nbformat_minor": 2
}
